{
 "cells": [
  {
   "cell_type": "code",
   "execution_count": 1,
   "id": "280388c3-89d5-401e-b6ba-2672810800c1",
   "metadata": {},
   "outputs": [],
   "source": [
    "import pulp\n",
    "import matplotlib.pyplot as plt"
   ]
  },
  {
   "cell_type": "code",
   "execution_count": 2,
   "id": "0d7216bb-f672-4b1a-8f22-f27cfbe718bb",
   "metadata": {},
   "outputs": [],
   "source": [
    "# Define sets\n",
    "years = [2020, 2021, 2022, 2023, 2024, 2025, 2026, 2027, 2028, 2029, 2030]\n",
    "technologies = ['fossil', 'renewable']\n",
    "\n",
    "# Define info\n",
    "initial_capacity = {'fossil':5, 'renewable':0} # in GW\n",
    "capacity_factor = {'fossil':0.8, 'renewable':0.18}\n",
    "efficiency_fossil = 0.4\n",
    "capex = {'fossil':700000000, 'renewable':800000000} # in $/GW\n",
    "variable_opex = {'fossil':40000, 'renewable':0} # in $/GWh\n",
    "fixed_opex = {'fossil':7000000, 'renewable':8000000} # in $/GW/year\n",
    "land_use = {'fossil':0, 'renewable':10} # in km2/GW\n",
    "\n",
    "operational_hours = 8760 # in hours\n",
    "discount = 0.1\n",
    "demand = {2020:7230, 2021:8000, 2022:9000, 2023:10000, 2024:12000, 2025:13000, 2026:15000, 2027:16000, 2028:16000, 2029:16000, 2030:16000} # in GWh\n",
    "\n",
    "# Fuel costs in $/GWh_th\n",
    "fossil_costs = {2020:15000, 2021:15000, 2022:15000, 2023:15000, 2024:15000, 2025:15000, 2026:15000, 2027:15000, 2028:15000, 2029:15000, 2030:15000}\n",
    "fossil_emissions = 280 # tCO2/GWh_th"
   ]
  },
  {
   "cell_type": "code",
   "execution_count": 3,
   "id": "1ad2d673-173c-46f1-ad1a-afdd993d4846",
   "metadata": {},
   "outputs": [],
   "source": [
    "#Initialise model\n",
    "model = pulp.LpProblem(\"Power_System\", pulp.LpMinimize)"
   ]
  },
  {
   "cell_type": "code",
   "execution_count": 4,
   "id": "774b9532-57b4-4d4a-9d18-aec908b7a734",
   "metadata": {},
   "outputs": [],
   "source": [
    "# Decision variables\n",
    "new_capacity = pulp.LpVariable.dicts(\"New_Capacity\", [(t,y) for t in technologies for y in years], lowBound=0, cat=\"Continuous\") # in GW\n",
    "cumulative_capacity = pulp.LpVariable.dicts(\"Cumulative_Capacity\", [(t,y) for t in technologies for y in years], lowBound=0, cat=\"Continuous\") # in GW\n",
    "dispatch = pulp.LpVariable.dicts(\"Dispatch\", [(t,y) for t in technologies for y in years], lowBound=0, cat=\"Continuous\") # in GWh"
   ]
  },
  {
   "cell_type": "code",
   "execution_count": 5,
   "id": "232cf6f6-fc20-4f47-b4e6-ce75fd07ca9d",
   "metadata": {},
   "outputs": [],
   "source": [
    "# Optimisation objective\n",
    "model += pulp.lpSum(new_capacity[(t,y)]*capex[t]/((1+discount)**(y-2020)) for t in technologies for y in years) + pulp.lpSum(dispatch[(t,y)]*variable_opex[t]/((1+discount)**(y-2020)) for t in technologies for y in years) + pulp.lpSum(cumulative_capacity[(t,y)]*fixed_opex[t]/((1+discount)**(y-2020)) for t in technologies for y in years) + pulp.lpSum(dispatch[('fossil',y)]/efficiency_fossil*fossil_costs[y]/((1+discount)**(y-2020)) for y in years)\n",
    "\n",
    "# Cumulative capacity calc (Technically constraint)\n",
    "for t in technologies:\n",
    "    for i in range(0,len(years)):\n",
    "        if i==0:\n",
    "            model += cumulative_capacity[(t,years[i])]==initial_capacity[t] + new_capacity[(t,years[i])]\n",
    "        else:\n",
    "            model += cumulative_capacity[(t,years[i])]==cumulative_capacity[(t,years[i-1])] + new_capacity[(t,years[i])]"
   ]
  },
  {
   "cell_type": "code",
   "execution_count": 6,
   "id": "7bc5655a-8c18-445a-a8ac-c981c8798056",
   "metadata": {},
   "outputs": [],
   "source": [
    "# Constraint 1: Supply = Demand\n",
    "for y in years: \n",
    "    model += pulp.lpSum(dispatch[(t,y)] for t in technologies) == demand[y]\n",
    "\n",
    "#Constraint 2: Max generation GWh <= Cumulative installed capacity * working hours\n",
    "for y in years: \n",
    "    for t in technologies: \n",
    "        model += dispatch[(t,y)] <= cumulative_capacity[(t,y)]*operational_hours*capacity_factor[t]"
   ]
  },
  {
   "cell_type": "code",
   "execution_count": 7,
   "id": "9db02d09-868c-4e23-8c64-93c51ffe25b0",
   "metadata": {},
   "outputs": [
    {
     "data": {
      "text/plain": [
       "1"
      ]
     },
     "execution_count": 7,
     "metadata": {},
     "output_type": "execute_result"
    }
   ],
   "source": [
    "# Solve model\n",
    "model.solve(pulp.PULP_CBC_CMD(msg=False))"
   ]
  },
  {
   "cell_type": "code",
   "execution_count": 8,
   "id": "b0ba8c3d-bad5-441d-902b-c680bcf92921",
   "metadata": {},
   "outputs": [
    {
     "name": "stdout",
     "output_type": "stream",
     "text": [
      "Optimal \n",
      "\n",
      "6595.443459086576\n",
      "fossil new capacity in year 2020 is  0.0   |   5.0\n",
      "fossil new capacity in year 2021 is  0.0   |   5.0\n",
      "fossil new capacity in year 2022 is  0.0   |   5.0\n",
      "fossil new capacity in year 2023 is  0.0   |   5.0\n",
      "fossil new capacity in year 2024 is  0.0   |   5.0\n",
      "fossil new capacity in year 2025 is  0.0   |   5.0\n",
      "fossil new capacity in year 2026 is  0.0   |   5.0\n",
      "fossil new capacity in year 2027 is  0.0   |   5.0\n",
      "fossil new capacity in year 2028 is  0.0   |   5.0\n",
      "fossil new capacity in year 2029 is  0.0   |   5.0\n",
      "fossil new capacity in year 2030 is  0.0   |   5.0\n",
      "renewable new capacity in year 2020 is  4.5852359   |   4.5852359\n",
      "renewable new capacity in year 2021 is  0.0   |   4.5852359\n",
      "renewable new capacity in year 2022 is  0.0   |   4.5852359\n",
      "renewable new capacity in year 2023 is  0.0   |   4.5852359\n",
      "renewable new capacity in year 2024 is  0.0   |   4.5852359\n",
      "renewable new capacity in year 2025 is  0.0   |   4.5852359\n",
      "renewable new capacity in year 2026 is  0.0   |   4.5852359\n",
      "renewable new capacity in year 2027 is  0.0   |   4.5852359\n",
      "renewable new capacity in year 2028 is  0.0   |   4.5852359\n",
      "renewable new capacity in year 2029 is  0.0   |   4.5852359\n",
      "renewable new capacity in year 2030 is  0.0   |   4.5852359\n",
      "\n",
      "\n",
      "fossil dispatch in year 2020 is  0.0\n",
      "fossil dispatch in year 2021 is  770.0\n",
      "fossil dispatch in year 2022 is  1770.0\n",
      "fossil dispatch in year 2023 is  2770.0\n",
      "fossil dispatch in year 2024 is  4770.0\n",
      "fossil dispatch in year 2025 is  5770.0\n",
      "fossil dispatch in year 2026 is  7770.0\n",
      "fossil dispatch in year 2027 is  8770.0\n",
      "fossil dispatch in year 2028 is  8770.0\n",
      "fossil dispatch in year 2029 is  8770.0\n",
      "fossil dispatch in year 2030 is  8770.0\n",
      "renewable dispatch in year 2020 is  7230.0\n",
      "renewable dispatch in year 2021 is  7230.0\n",
      "renewable dispatch in year 2022 is  7230.0\n",
      "renewable dispatch in year 2023 is  7230.0\n",
      "renewable dispatch in year 2024 is  7230.0\n",
      "renewable dispatch in year 2025 is  7230.0\n",
      "renewable dispatch in year 2026 is  7230.0\n",
      "renewable dispatch in year 2027 is  7230.0\n",
      "renewable dispatch in year 2028 is  7230.0\n",
      "renewable dispatch in year 2029 is  7230.0\n",
      "renewable dispatch in year 2030 is  7230.0\n"
     ]
    }
   ],
   "source": [
    "print(pulp.LpStatus[model.status], '\\n')\n",
    "print(pulp.value(model.objective)/1000000)\n",
    "\n",
    "for t in technologies:\n",
    "    for y in years: \n",
    "        print(f\"{t} new capacity in year {y} is \", pulp.value(new_capacity[(t,y)]), \"  |  \", pulp.value(cumulative_capacity[(t,y)]))\n",
    "\n",
    "print('\\n')\n",
    "\n",
    "for t in technologies:\n",
    "    for y in years: \n",
    "        print(f\"{t} dispatch in year {y} is \", pulp.value(dispatch[(t,y)]))"
   ]
  },
  {
   "cell_type": "code",
   "execution_count": 9,
   "id": "9862b291-ee22-4fe9-88c6-31c1e8ef9015",
   "metadata": {},
   "outputs": [
    {
     "name": "stdout",
     "output_type": "stream",
     "text": [
      "[0.0, 770.0, 1770.0, 2770.0, 4770.0, 5770.0, 7770.0, 8770.0, 8770.0, 8770.0, 8770.0]\n",
      "[7230.0, 7230.0, 7230.0, 7230.0, 7230.0, 7230.0, 7230.0, 7230.0, 7230.0, 7230.0, 7230.0]\n"
     ]
    }
   ],
   "source": [
    "fossil_dispatch = [pulp.value(dispatch[('fossil',y)]) for y in years]\n",
    "renewable_dispatch = [pulp.value(dispatch[('renewable',y)]) for y in years]\n",
    "print(fossil_dispatch)\n",
    "print(renewable_dispatch)"
   ]
  },
  {
   "cell_type": "code",
   "execution_count": 10,
   "id": "49c92005-6698-4b1a-b287-9dcf60008a77",
   "metadata": {},
   "outputs": [
    {
     "data": {
      "image/png": "[encoded data removed]",
      "text/plain": [
       "<Figure size 640x480 with 1 Axes>"
      ]
     },
     "metadata": {},
     "output_type": "display_data"
    }
   ],
   "source": [
    "plt.bar(years, fossil_dispatch, color = 'violet', label = 'Fossil')\n",
    "plt.bar(years, renewable_dispatch, bottom = fossil_dispatch, color = 'darkblue', label = 'Renewable')\n",
    "plt.title('Dsipatch per year')\n",
    "plt.xlabel('Year')\n",
    "plt.ylabel('Dispatch. [GWh]')\n",
    "plt.legend()\n",
    "plt.show()"
   ]
  },
  {
   "cell_type": "code",
   "execution_count": 11,
   "id": "0a2bb420-b9cc-4f5e-9cf2-883069be7ce1",
   "metadata": {},
   "outputs": [
    {
     "data": {
      "image/png": "[encoded data removed]",
      "text/plain": [
       "<Figure size 640x480 with 1 Axes>"
      ]
     },
     "metadata": {},
     "output_type": "display_data"
    }
   ],
   "source": [
    "capacity_2030 = [pulp.value(cumulative_capacity[(t,2030)]) for t in technologies]\n",
    "plt.pie(capacity_2030, labels = technologies, autopct='%1.1f%%', colors = ['violet', 'darkblue'])\n",
    "plt.title('2030 capacity')\n",
    "plt.show()"
   ]
  },
  {
   "cell_type": "code",
   "execution_count": null,
   "id": "f2a3381a-3fde-4233-b424-ae8903917321",
   "metadata": {},
   "outputs": [],
   "source": []
  }
 ],
 "metadata": {
  "kernelspec": {
   "display_name": "Python [conda env:base] *",
   "language": "python",
   "name": "conda-base-py"
  },
  "language_info": {
   "codemirror_mode": {
    "name": "ipython",
    "version": 3
   },
   "file_extension": ".py",
   "mimetype": "text/x-python",
   "name": "python",
   "nbconvert_exporter": "python",
   "pygments_lexer": "ipython3",
   "version": "3.12.7"
  }
 },
 "nbformat": 4,
 "nbformat_minor": 5
}
